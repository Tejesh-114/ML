{
 "cells": [
  {
   "cell_type": "code",
   "execution_count": null,
   "id": "7dffb696-34d7-42b8-a272-ccb1c26643cf",
   "metadata": {},
   "outputs": [],
   "source": [
    "import numpy as np\n",
    "import pandas as pd\n",
    "data = pd.read_excel(r\"C:\\Users\\year3\\Downloads\\Lab Session Data.xlsx\")  \n",
    "A = data[['Candies (#)', 'Mangoes (Kg)', 'Milk Packets (#)']].values  \n",
    "C = data['Payment (Rs)'].values  \n",
    "A_pinv = np.linalg.pinv(A)\n",
    "X = A_pinv @ C\n",
    "print(\"Coefficients for price prediction:\")\n",
    "print(X)\n",
    "value1 = float(input(\"Enter quantity of Candies (#): \"))\n",
    "value2 = float(input(\"Enter quantity of Mangoes (Kg): \"))\n",
    "value3 = float(input(\"Enter quantity of Milk Packets (#): \"))\n",
    "new_data = np.array([[value1, value2, value3]])\n",
    "predicted_price = new_data @ X\n",
    "print(f\"Predicted price: {predicted_price[0]:.2f} Rs\")"
   ]
  }
 ],
 "metadata": {
  "kernelspec": {
   "display_name": "Python 3 (ipykernel)",
   "language": "python",
   "name": "python3"
  },
  "language_info": {
   "codemirror_mode": {
    "name": "ipython",
    "version": 3
   },
   "file_extension": ".py",
   "mimetype": "text/x-python",
   "name": "python",
   "nbconvert_exporter": "python",
   "pygments_lexer": "ipython3",
   "version": "3.12.4"
  }
 },
 "nbformat": 4,
 "nbformat_minor": 5
}
