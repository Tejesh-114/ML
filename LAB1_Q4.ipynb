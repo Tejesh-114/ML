{
 "cells": [
  {
   "cell_type": "code",
   "execution_count": 1,
   "id": "45e58236-4dfc-4ffe-a7fc-1c0b70979d25",
   "metadata": {},
   "outputs": [
    {
     "name": "stdout",
     "output_type": "stream",
     "text": [
      "Enter the no. rows of the matrix:  3\n",
      "Enter the no. columns of the matrix:  3\n"
     ]
    },
    {
     "name": "stdout",
     "output_type": "stream",
     "text": [
      "Enter the elements of the matrix: \n"
     ]
    },
    {
     "name": "stdout",
     "output_type": "stream",
     "text": [
      "Element [1][1]:  1\n",
      "Element [1][2]:  2\n",
      "Element [1][3]:  3\n",
      "Element [2][1]:  4\n",
      "Element [2][2]:  5\n",
      "Element [2][3]:  6\n",
      "Element [3][1]:  7\n",
      "Element [3][2]:  8\n",
      "Element [3][3]:  9\n"
     ]
    },
    {
     "name": "stdout",
     "output_type": "stream",
     "text": [
      "\n",
      "Transposed matrix:\n",
      "[1, 4, 7]\n",
      "[2, 5, 8]\n",
      "[3, 6, 9]\n"
     ]
    }
   ],
   "source": [
    "def transpose(matrix, rows, cols):\n",
    "    transposed_matrix = [[0 for _ in range(rows)] for _ in range(rows)]\n",
    "    for i in range(rows):\n",
    "        for j in range(cols):\n",
    "            transposed_matrix[j][i] = matrix[i][j]\n",
    "\n",
    "    return transposed_matrix\n",
    "rows = int(input(\"Enter the no. rows of the matrix: \"))\n",
    "cols = int(input(\"Enter the no. columns of the matrix: \"))\n",
    "matrix = []\n",
    "\n",
    "print(\"Enter the elements of the matrix: \")\n",
    "for i in range(rows):\n",
    "    a = []\n",
    "    for j in range(cols):\n",
    "        a.append(int(input(f\"Element [{i+1}][{j+1}]: \")))\n",
    "    matrix.append(a)\n",
    "\n",
    "# Transpose the matrix\n",
    "transposed = transpose(matrix, rows, cols)\n",
    "print(\"\\nTransposed matrix:\")\n",
    "for row in transposed:\n",
    "    print(row)"
   ]
  },
  {
   "cell_type": "code",
   "execution_count": null,
   "id": "3f7c2a8a-cb71-4214-a00b-57327e3979bc",
   "metadata": {},
   "outputs": [],
   "source": []
  }
 ],
 "metadata": {
  "kernelspec": {
   "display_name": "Python 3 (ipykernel)",
   "language": "python",
   "name": "python3"
  },
  "language_info": {
   "codemirror_mode": {
    "name": "ipython",
    "version": 3
   },
   "file_extension": ".py",
   "mimetype": "text/x-python",
   "name": "python",
   "nbconvert_exporter": "python",
   "pygments_lexer": "ipython3",
   "version": "3.12.4"
  }
 },
 "nbformat": 4,
 "nbformat_minor": 5
}
