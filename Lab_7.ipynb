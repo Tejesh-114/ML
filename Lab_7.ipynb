{
 "cells": [
  {
   "cell_type": "code",
   "execution_count": null,
   "id": "cb6b7dd3-7f1c-4f09-9eb9-6ea67c48ed97",
   "metadata": {},
   "outputs": [],
   "source": [
    "A1. Continue your unfinished experiments from last lab class. \n",
    "A2. Use cross-validation techniques (RandomizedSearchCV()) technique to tune the \n",
    "hyperparameters for your perceptron and MLP networks. \n",
    "A3. Tabulate your results with various other classifiers such as Support Vector Machines, Decision \n",
    "Tree, RandomForest, CatBoost, AdaBoost, XGBoost, Naïve-Bayes. Tabulate your results for your \n",
    "problem using different performance metrics."
   ]
  }
 ],
 "metadata": {
  "kernelspec": {
   "display_name": "Python 3 (ipykernel)",
   "language": "python",
   "name": "python3"
  },
  "language_info": {
   "codemirror_mode": {
    "name": "ipython",
    "version": 3
   },
   "file_extension": ".py",
   "mimetype": "text/x-python",
   "name": "python",
   "nbconvert_exporter": "python",
   "pygments_lexer": "ipython3",
   "version": "3.12.4"
  }
 },
 "nbformat": 4,
 "nbformat_minor": 5
}
