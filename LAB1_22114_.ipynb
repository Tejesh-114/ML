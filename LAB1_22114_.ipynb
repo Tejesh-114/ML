{
 "cells": [
  {
   "cell_type": "markdown",
   "id": "63005b1d-8192-4fe3-818a-fdd06093f1a4",
   "metadata": {},
   "source": [
    "# Q1"
   ]
  },
  {
   "cell_type": "code",
   "execution_count": 1,
   "id": "4bed346c-8f9d-4069-b7a4-a819ffb6a51d",
   "metadata": {},
   "outputs": [
    {
     "name": "stdout",
     "output_type": "stream",
     "text": [
      "Enter the String:  hello world\n"
     ]
    },
    {
     "name": "stdout",
     "output_type": "stream",
     "text": [
      "vowels in the string are: 3\n",
      "consonents in the string are: 7\n"
     ]
    }
   ],
   "source": [
    "def tej():\n",
    "    v=['a','e','i','o','u']\n",
    "    c=['b','c','d','f','g','h','j','k','l','m','n','p','q','r','s','t','v','w','x','y','z']\n",
    "    n=input(\"Enter the String: \").lower()\n",
    "    c1=0\n",
    "    c2=0\n",
    "    for i in n:\n",
    "        if i in v:\n",
    "            c1=c1+1 #count for vowels\n",
    "        elif i in c:\n",
    "            c2=c2+1 #count for consonents\n",
    "    return c1,c2\n",
    "vc,cc=tej()\n",
    "print(\"vowels in the string are:\",vc)\n",
    "print(\"consonents in the string are:\",cc)\n"
   ]
  },
  {
   "cell_type": "markdown",
   "id": "c754cee6-04c8-46ef-90f4-30b9189a0276",
   "metadata": {},
   "source": [
    "# Q2"
   ]
  },
  {
   "cell_type": "code",
   "execution_count": 10,
   "id": "946ad338-2f51-4638-9d48-92a83851e240",
   "metadata": {},
   "outputs": [
    {
     "name": "stdout",
     "output_type": "stream",
     "text": [
      "Matrix AB:\n",
      "[58, 64]\n",
      "[139, 154]\n"
     ]
    }
   ],
   "source": [
    "def matrixmul(a,b):\n",
    "    m=len(a)\n",
    "    n=len(a[0])\n",
    "    p=len(b[0])\n",
    "    if len(b)!=n:\n",
    "        return \"matrices are not multipliable\"\n",
    "    c=[]\n",
    "    for i in range(m):\n",
    "        c.append([0]*p)\n",
    "    for i in range(m):\n",
    "        for j in range(p):\n",
    "            for k in range(n):\n",
    "                c[i][j]+=a[i][k]*b[k][j]\n",
    "    return c\n",
    "A=[[1,2,3],[4,5,6]]\n",
    "B=[[7,8],[9,10],[11,12]]\n",
    "result=matrixmul(A,B)\n",
    "if type(result) == str:\n",
    "    print(result)\n",
    "else:\n",
    "    print(\"Matrix AB:\")\n",
    "    for row in result:\n",
    "        print(row)"
   ]
  },
  {
   "cell_type": "markdown",
   "id": "f7eb2ab7-78f1-497b-91e8-94243920bbad",
   "metadata": {},
   "source": [
    "# Q3"
   ]
  },
  {
   "cell_type": "code",
   "execution_count": 3,
   "id": "ee63b533-d5bf-4b48-9ba2-7241726d4273",
   "metadata": {},
   "outputs": [
    {
     "name": "stdout",
     "output_type": "stream",
     "text": [
      "Enter the elements of list1 :  1 2 3 4 5\n",
      "Enter the elements of list2 :  2 4 6 8 9\n"
     ]
    },
    {
     "name": "stdout",
     "output_type": "stream",
     "text": [
      "No. of common elements:  2\n"
     ]
    }
   ],
   "source": [
    "def c(list1,list2):\n",
    "    common=[]\n",
    "    for i in list1:\n",
    "        if i in list2 and i not in common:\n",
    "            common.append(i)\n",
    "    return len(common)\n",
    "list1=input(\"Enter the elements of list1 : \").split()\n",
    "list2=input(\"Enter the elements of list2 : \").split()\n",
    "for i in range(len(list1)):\n",
    "    list1[i]=int(list1[i])\n",
    "for i in range(len(list2)):\n",
    "    list2[i]=int(list2[i])\n",
    "print(\"No. of common elements: \",c(list1,list2))"
   ]
  },
  {
   "cell_type": "code",
   "execution_count": null,
   "id": "bc1779ef-a9c5-4f94-b0b8-7122d6b5797d",
   "metadata": {},
   "outputs": [],
   "source": []
  }
 ],
 "metadata": {
  "kernelspec": {
   "display_name": "Python 3 (ipykernel)",
   "language": "python",
   "name": "python3"
  },
  "language_info": {
   "codemirror_mode": {
    "name": "ipython",
    "version": 3
   },
   "file_extension": ".py",
   "mimetype": "text/x-python",
   "name": "python",
   "nbconvert_exporter": "python",
   "pygments_lexer": "ipython3",
   "version": "3.12.4"
  }
 },
 "nbformat": 4,
 "nbformat_minor": 5
}
